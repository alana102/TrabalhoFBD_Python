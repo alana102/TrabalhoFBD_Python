foto = gerar_url(foto_perfil)            
        cursor= con.cursor()
        cursor.execute("insert into login (email, senha_hash) values (%s, %s) returning id", (email.value_input, senha.value_input))
        id_login = cursor.fetchone()[0]
        cursor.execute("insert into usuarios(foto_perfil, prim_nome, segun_nome, terc_nome, CPF, id_estado, id_cidade, data_nascimento, genero, nome_social, id_login) VALUES (%s, %s, %s, %s, %s, %s, %s, %s, %s, %s, %s)", 
                    (foto ,primNome.value_input, segunNome.value_input, TercNome.value_input, cpf.value_input, estado.value, cidade.value, datanasc.value, genero.value, nomeSocial.value_input, id_login))